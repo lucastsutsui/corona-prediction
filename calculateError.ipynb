{
 "cells": [
  {
   "cell_type": "code",
   "execution_count": 1,
   "metadata": {},
   "outputs": [],
   "source": [
    "import numpy as np"
   ]
  },
  {
   "cell_type": "code",
   "execution_count": 2,
   "metadata": {},
   "outputs": [
    {
     "name": "stdout",
     "output_type": "stream",
     "text": [
      "5.65\n"
     ]
    }
   ],
   "source": [
    "dataset = np.loadtxt(open(\"dataPredictions.csv\"), delimiter=',')\n",
    "\n",
    "accSum = 0\n",
    "for i in range(int(len(dataset) / 2)):\n",
    "    accSum += sum(100.0 * abs(dataset[2 * i] - dataset[(2 * i) + 1]) / dataset[(2 * i) + 1])\n",
    "print (\"%.2f\" % (accSum / (2.0 * len(dataset))))"
   ]
  }
 ],
 "metadata": {
  "kernelspec": {
   "display_name": "Python 3",
   "language": "python",
   "name": "python3"
  },
  "language_info": {
   "codemirror_mode": {
    "name": "ipython",
    "version": 3
   },
   "file_extension": ".py",
   "mimetype": "text/x-python",
   "name": "python",
   "nbconvert_exporter": "python",
   "pygments_lexer": "ipython3",
   "version": "3.5.2"
  }
 },
 "nbformat": 4,
 "nbformat_minor": 4
}
